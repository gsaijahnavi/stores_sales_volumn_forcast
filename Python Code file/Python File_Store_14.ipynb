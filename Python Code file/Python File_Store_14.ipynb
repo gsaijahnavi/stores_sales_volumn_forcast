{
  "nbformat": 4,
  "nbformat_minor": 0,
  "metadata": {
    "colab": {
      "name": "Store_14.ipynb",
      "provenance": [],
      "collapsed_sections": []
    },
    "kernelspec": {
      "name": "python3",
      "display_name": "Python 3"
    },
    "language_info": {
      "name": "python"
    }
  },
  "cells": [
    {
      "cell_type": "markdown",
      "source": [
        "# Store_14"
      ],
      "metadata": {
        "id": "bu55BiESCout"
      }
    },
    {
      "cell_type": "code",
      "source": [
        "from google.colab import drive\n",
        "drive.mount('/content/drive')"
      ],
      "metadata": {
        "colab": {
          "base_uri": "https://localhost:8080/"
        },
        "id": "XoVWKI9rgQr0",
        "outputId": "b2c3a034-283c-4909-a5c6-1768608b6d6f"
      },
      "execution_count": 36,
      "outputs": [
        {
          "output_type": "stream",
          "name": "stdout",
          "text": [
            "Drive already mounted at /content/drive; to attempt to forcibly remount, call drive.mount(\"/content/drive\", force_remount=True).\n"
          ]
        }
      ]
    },
    {
      "cell_type": "markdown",
      "source": [
        "# Importing Required Modules"
      ],
      "metadata": {
        "id": "ztRgRlWF_AWK"
      }
    },
    {
      "cell_type": "code",
      "source": [
        "import pandas as pd\n",
        "import seaborn as sns\n",
        "import matplotlib.pyplot as plt\n",
        "import scipy.stats\n",
        "import numpy as np\n",
        "import pylab"
      ],
      "metadata": {
        "id": "rdWSpyLogtmy"
      },
      "execution_count": 37,
      "outputs": []
    },
    {
      "cell_type": "code",
      "source": [
        "# Functions useful for Splitting & Normalization\n",
        "from sklearn.preprocessing import  MinMaxScaler\n",
        "from sklearn.model_selection import train_test_split\n",
        "\n",
        "# Functions for Regression modeling \n",
        "from sklearn.linear_model import LinearRegression\n",
        "import statsmodels.api as sm\n",
        "\n",
        "# Regression Error Metrics - scikit-learn\n",
        "from sklearn.metrics import mean_absolute_error\n",
        "from sklearn.metrics import mean_squared_error\n",
        "from sklearn.metrics import r2_score\n",
        "from sklearn.metrics import mean_absolute_percentage_error\n",
        "\n",
        "# Regression Error Metrics \n",
        "from statsmodels.tools.eval_measures import rmse\n",
        "from statsmodels.tools.eval_measures import mse\n",
        "from statsmodels.tools.eval_measures import meanabs"
      ],
      "metadata": {
        "id": "5NumbZxzvHA7"
      },
      "execution_count": 38,
      "outputs": []
    },
    {
      "cell_type": "markdown",
      "source": [
        "# Importing Dataset for Store_14"
      ],
      "metadata": {
        "id": "1rrVeY4E_HhY"
      }
    },
    {
      "cell_type": "code",
      "source": [
        "df_14=pd.read_csv('/content/drive/MyDrive/Colab Notebooks/store14.csv')"
      ],
      "metadata": {
        "id": "AlDOXJxbvSiZ"
      },
      "execution_count": 39,
      "outputs": []
    },
    {
      "cell_type": "code",
      "source": [
        "df_14.head()"
      ],
      "metadata": {
        "colab": {
          "base_uri": "https://localhost:8080/",
          "height": 206
        },
        "id": "h7zDQqd0viJN",
        "outputId": "6554b213-4ecd-4e83-b438-79595820769f"
      },
      "execution_count": 40,
      "outputs": [
        {
          "output_type": "execute_result",
          "data": {
            "text/plain": [
              "       date_o        sales  promo  oil price  Holiday  transactions  cluster\n",
              "0  2013-01-01     0.000000      0      93.14    False           0.0      NaN\n",
              "1  2013-01-02  7698.253000      0      93.14    False        2002.0      NaN\n",
              "2  2013-01-03  6158.575996      0      92.97    False        1823.0      NaN\n",
              "3  2013-01-04  5777.689000      0      93.12    False        1641.0      NaN\n",
              "4  2013-01-05  7974.621000      0      93.20    False        2052.0      NaN"
            ],
            "text/html": [
              "\n",
              "  <div id=\"df-d62921ea-cfae-4ef9-a00a-a414809fa0e0\">\n",
              "    <div class=\"colab-df-container\">\n",
              "      <div>\n",
              "<style scoped>\n",
              "    .dataframe tbody tr th:only-of-type {\n",
              "        vertical-align: middle;\n",
              "    }\n",
              "\n",
              "    .dataframe tbody tr th {\n",
              "        vertical-align: top;\n",
              "    }\n",
              "\n",
              "    .dataframe thead th {\n",
              "        text-align: right;\n",
              "    }\n",
              "</style>\n",
              "<table border=\"1\" class=\"dataframe\">\n",
              "  <thead>\n",
              "    <tr style=\"text-align: right;\">\n",
              "      <th></th>\n",
              "      <th>date_o</th>\n",
              "      <th>sales</th>\n",
              "      <th>promo</th>\n",
              "      <th>oil price</th>\n",
              "      <th>Holiday</th>\n",
              "      <th>transactions</th>\n",
              "      <th>cluster</th>\n",
              "    </tr>\n",
              "  </thead>\n",
              "  <tbody>\n",
              "    <tr>\n",
              "      <th>0</th>\n",
              "      <td>2013-01-01</td>\n",
              "      <td>0.000000</td>\n",
              "      <td>0</td>\n",
              "      <td>93.14</td>\n",
              "      <td>False</td>\n",
              "      <td>0.0</td>\n",
              "      <td>NaN</td>\n",
              "    </tr>\n",
              "    <tr>\n",
              "      <th>1</th>\n",
              "      <td>2013-01-02</td>\n",
              "      <td>7698.253000</td>\n",
              "      <td>0</td>\n",
              "      <td>93.14</td>\n",
              "      <td>False</td>\n",
              "      <td>2002.0</td>\n",
              "      <td>NaN</td>\n",
              "    </tr>\n",
              "    <tr>\n",
              "      <th>2</th>\n",
              "      <td>2013-01-03</td>\n",
              "      <td>6158.575996</td>\n",
              "      <td>0</td>\n",
              "      <td>92.97</td>\n",
              "      <td>False</td>\n",
              "      <td>1823.0</td>\n",
              "      <td>NaN</td>\n",
              "    </tr>\n",
              "    <tr>\n",
              "      <th>3</th>\n",
              "      <td>2013-01-04</td>\n",
              "      <td>5777.689000</td>\n",
              "      <td>0</td>\n",
              "      <td>93.12</td>\n",
              "      <td>False</td>\n",
              "      <td>1641.0</td>\n",
              "      <td>NaN</td>\n",
              "    </tr>\n",
              "    <tr>\n",
              "      <th>4</th>\n",
              "      <td>2013-01-05</td>\n",
              "      <td>7974.621000</td>\n",
              "      <td>0</td>\n",
              "      <td>93.20</td>\n",
              "      <td>False</td>\n",
              "      <td>2052.0</td>\n",
              "      <td>NaN</td>\n",
              "    </tr>\n",
              "  </tbody>\n",
              "</table>\n",
              "</div>\n",
              "      <button class=\"colab-df-convert\" onclick=\"convertToInteractive('df-d62921ea-cfae-4ef9-a00a-a414809fa0e0')\"\n",
              "              title=\"Convert this dataframe to an interactive table.\"\n",
              "              style=\"display:none;\">\n",
              "        \n",
              "  <svg xmlns=\"http://www.w3.org/2000/svg\" height=\"24px\"viewBox=\"0 0 24 24\"\n",
              "       width=\"24px\">\n",
              "    <path d=\"M0 0h24v24H0V0z\" fill=\"none\"/>\n",
              "    <path d=\"M18.56 5.44l.94 2.06.94-2.06 2.06-.94-2.06-.94-.94-2.06-.94 2.06-2.06.94zm-11 1L8.5 8.5l.94-2.06 2.06-.94-2.06-.94L8.5 2.5l-.94 2.06-2.06.94zm10 10l.94 2.06.94-2.06 2.06-.94-2.06-.94-.94-2.06-.94 2.06-2.06.94z\"/><path d=\"M17.41 7.96l-1.37-1.37c-.4-.4-.92-.59-1.43-.59-.52 0-1.04.2-1.43.59L10.3 9.45l-7.72 7.72c-.78.78-.78 2.05 0 2.83L4 21.41c.39.39.9.59 1.41.59.51 0 1.02-.2 1.41-.59l7.78-7.78 2.81-2.81c.8-.78.8-2.07 0-2.86zM5.41 20L4 18.59l7.72-7.72 1.47 1.35L5.41 20z\"/>\n",
              "  </svg>\n",
              "      </button>\n",
              "      \n",
              "  <style>\n",
              "    .colab-df-container {\n",
              "      display:flex;\n",
              "      flex-wrap:wrap;\n",
              "      gap: 12px;\n",
              "    }\n",
              "\n",
              "    .colab-df-convert {\n",
              "      background-color: #E8F0FE;\n",
              "      border: none;\n",
              "      border-radius: 50%;\n",
              "      cursor: pointer;\n",
              "      display: none;\n",
              "      fill: #1967D2;\n",
              "      height: 32px;\n",
              "      padding: 0 0 0 0;\n",
              "      width: 32px;\n",
              "    }\n",
              "\n",
              "    .colab-df-convert:hover {\n",
              "      background-color: #E2EBFA;\n",
              "      box-shadow: 0px 1px 2px rgba(60, 64, 67, 0.3), 0px 1px 3px 1px rgba(60, 64, 67, 0.15);\n",
              "      fill: #174EA6;\n",
              "    }\n",
              "\n",
              "    [theme=dark] .colab-df-convert {\n",
              "      background-color: #3B4455;\n",
              "      fill: #D2E3FC;\n",
              "    }\n",
              "\n",
              "    [theme=dark] .colab-df-convert:hover {\n",
              "      background-color: #434B5C;\n",
              "      box-shadow: 0px 1px 3px 1px rgba(0, 0, 0, 0.15);\n",
              "      filter: drop-shadow(0px 1px 2px rgba(0, 0, 0, 0.3));\n",
              "      fill: #FFFFFF;\n",
              "    }\n",
              "  </style>\n",
              "\n",
              "      <script>\n",
              "        const buttonEl =\n",
              "          document.querySelector('#df-d62921ea-cfae-4ef9-a00a-a414809fa0e0 button.colab-df-convert');\n",
              "        buttonEl.style.display =\n",
              "          google.colab.kernel.accessAllowed ? 'block' : 'none';\n",
              "\n",
              "        async function convertToInteractive(key) {\n",
              "          const element = document.querySelector('#df-d62921ea-cfae-4ef9-a00a-a414809fa0e0');\n",
              "          const dataTable =\n",
              "            await google.colab.kernel.invokeFunction('convertToInteractive',\n",
              "                                                     [key], {});\n",
              "          if (!dataTable) return;\n",
              "\n",
              "          const docLinkHtml = 'Like what you see? Visit the ' +\n",
              "            '<a target=\"_blank\" href=https://colab.research.google.com/notebooks/data_table.ipynb>data table notebook</a>'\n",
              "            + ' to learn more about interactive tables.';\n",
              "          element.innerHTML = '';\n",
              "          dataTable['output_type'] = 'display_data';\n",
              "          await google.colab.output.renderOutput(dataTable, element);\n",
              "          const docLink = document.createElement('div');\n",
              "          docLink.innerHTML = docLinkHtml;\n",
              "          element.appendChild(docLink);\n",
              "        }\n",
              "      </script>\n",
              "    </div>\n",
              "  </div>\n",
              "  "
            ]
          },
          "metadata": {},
          "execution_count": 40
        }
      ]
    },
    {
      "cell_type": "code",
      "source": [
        "df_14=df_14.drop(['cluster'],axis=1)"
      ],
      "metadata": {
        "id": "vo243IZw0uGQ"
      },
      "execution_count": 41,
      "outputs": []
    },
    {
      "cell_type": "code",
      "source": [
        "# holiday = pd.read_csv('/content/drive/MyDrive/holidays_events.csv')\n",
        "# oil =  pd.read_csv('/content/drive/MyDrive/oil.csv')\n",
        "# stores = pd.read_csv('/content/drive/MyDrive/stores.csv')\n",
        "# transactions = pd.read_csv('/content/drive/MyDrive/transactions.csv')\n",
        "# train = pd.read_csv('/content/drive/MyDrive/train.csv')\n",
        "# test = pd.read_csv('/content/drive/MyDrive/test (1).csv')"
      ],
      "metadata": {
        "id": "5Iw68WX-gxqz"
      },
      "execution_count": 42,
      "outputs": []
    },
    {
      "cell_type": "markdown",
      "source": [
        "# Extracting Day, Month & Year from Date"
      ],
      "metadata": {
        "id": "K4hDYIDP_OHy"
      }
    },
    {
      "cell_type": "code",
      "source": [
        "df_14['date_o'] = df_14['date_o'].apply(pd.to_datetime)"
      ],
      "metadata": {
        "id": "HuiLRMJJIdNo"
      },
      "execution_count": 43,
      "outputs": []
    },
    {
      "cell_type": "code",
      "source": [
        "df_14['Month']=df_14['date_o'].dt.strftime('%m')"
      ],
      "metadata": {
        "id": "thEEVUh1JuIS"
      },
      "execution_count": 44,
      "outputs": []
    },
    {
      "cell_type": "code",
      "source": [
        "df_14['Year']=df_14['date_o'].dt.strftime('%Y')"
      ],
      "metadata": {
        "id": "h8emSCPVKCW2"
      },
      "execution_count": 45,
      "outputs": []
    },
    {
      "cell_type": "code",
      "source": [
        "df_14['Day']=df_14['date_o'].dt.strftime('%d')"
      ],
      "metadata": {
        "id": "jKCRgG_CJysm"
      },
      "execution_count": 46,
      "outputs": []
    },
    {
      "cell_type": "code",
      "source": [
        "df_14=df_14.drop(['date_o'],axis=1)"
      ],
      "metadata": {
        "id": "nK-F7lKVMtQw"
      },
      "execution_count": 47,
      "outputs": []
    },
    {
      "cell_type": "code",
      "source": [
        "df_14.info()"
      ],
      "metadata": {
        "colab": {
          "base_uri": "https://localhost:8080/"
        },
        "id": "vhyCv9hEK6C3",
        "outputId": "c2a2acee-b6b6-468d-fbc5-1fcd5e36da8b"
      },
      "execution_count": 48,
      "outputs": [
        {
          "output_type": "stream",
          "name": "stdout",
          "text": [
            "<class 'pandas.core.frame.DataFrame'>\n",
            "RangeIndex: 1684 entries, 0 to 1683\n",
            "Data columns (total 8 columns):\n",
            " #   Column        Non-Null Count  Dtype  \n",
            "---  ------        --------------  -----  \n",
            " 0   sales         1684 non-null   float64\n",
            " 1   promo         1684 non-null   int64  \n",
            " 2   oil price     1684 non-null   float64\n",
            " 3   Holiday       1684 non-null   bool   \n",
            " 4   transactions  1684 non-null   float64\n",
            " 5   Month         1684 non-null   object \n",
            " 6   Year          1684 non-null   object \n",
            " 7   Day           1684 non-null   object \n",
            "dtypes: bool(1), float64(3), int64(1), object(3)\n",
            "memory usage: 93.9+ KB\n"
          ]
        }
      ]
    },
    {
      "cell_type": "markdown",
      "source": [
        "# Defining X & y"
      ],
      "metadata": {
        "id": "XQvsVzAz_Tgb"
      }
    },
    {
      "cell_type": "code",
      "source": [
        "X=df_14.drop(['sales'],axis=1)\n",
        "y=df_14['sales']"
      ],
      "metadata": {
        "id": "zPNmIdITFtWz"
      },
      "execution_count": 49,
      "outputs": []
    },
    {
      "cell_type": "markdown",
      "source": [
        "# Splitting Dataset into Training & Test Sets"
      ],
      "metadata": {
        "id": "GBmVqOfQ_lI5"
      }
    },
    {
      "cell_type": "code",
      "source": [
        "X_train,X_test,y_train,y_test=train_test_split(X,y,test_size=0.2,random_state=42,shuffle=True)"
      ],
      "metadata": {
        "id": "1xX5-9FcGpsh"
      },
      "execution_count": 50,
      "outputs": []
    },
    {
      "cell_type": "code",
      "source": [
        "X_train_temp=X_train.drop(['Holiday','Month', 'Year', 'Day'],axis=1)\n",
        "X_test_temp=X_test.drop(['Holiday','Month', 'Year', 'Day'],axis=1)\n"
      ],
      "metadata": {
        "id": "KG4RJXkIVb2s"
      },
      "execution_count": 51,
      "outputs": []
    },
    {
      "cell_type": "code",
      "source": [
        "col_names=X_train_temp.columns"
      ],
      "metadata": {
        "id": "8tywrldUXII0"
      },
      "execution_count": 52,
      "outputs": []
    },
    {
      "cell_type": "markdown",
      "source": [
        "# Transforming the Distribution of Continuous Variables"
      ],
      "metadata": {
        "id": "vm_XwitN_yic"
      }
    },
    {
      "cell_type": "code",
      "source": [
        "from sklearn.preprocessing import PowerTransformer\n",
        "\n",
        "power = PowerTransformer(method='yeo-johnson')\n",
        "X_train_temp=power.fit_transform(X_train_temp)\n",
        "X_test_temp=power.transform(X_test_temp)"
      ],
      "metadata": {
        "id": "gTMsRpUXV3D6"
      },
      "execution_count": 53,
      "outputs": []
    },
    {
      "cell_type": "markdown",
      "source": [
        "# Standardizing the Continuous Variables"
      ],
      "metadata": {
        "id": "K90vtrvs_3Vi"
      }
    },
    {
      "cell_type": "code",
      "source": [
        "scaler=MinMaxScaler()\n",
        "X_train_temp=scaler.fit_transform(X_train_temp)\n",
        "X_test_temp=scaler.transform(X_test_temp)"
      ],
      "metadata": {
        "id": "-xXKpqJvV-kQ"
      },
      "execution_count": 54,
      "outputs": []
    },
    {
      "cell_type": "code",
      "source": [
        "X_train_temp=pd.DataFrame(X_train_temp,columns=col_names)\n",
        "X_test_temp=pd.DataFrame(X_test_temp,columns=col_names)"
      ],
      "metadata": {
        "id": "EiNP14DTW_b0"
      },
      "execution_count": 55,
      "outputs": []
    },
    {
      "cell_type": "code",
      "source": [
        "# Adding Categorical Variables back for Modeling\n",
        "\n",
        "X_train_temp[['Holiday','Month', 'Year', 'Day']]=X_train[['Holiday','Month', 'Year', 'Day']].to_numpy()\n",
        "X_test_temp[['Holiday','Month', 'Year', 'Day']]=X_test[['Holiday','Month', 'Year', 'Day']].to_numpy()"
      ],
      "metadata": {
        "id": "cnKcOtP0XadI"
      },
      "execution_count": 56,
      "outputs": []
    },
    {
      "cell_type": "code",
      "source": [
        "X_train = np.array(X_train_temp)\n",
        "X_test = np.array(X_test_temp)\n",
        "y_train = np.array(y_train)\n",
        "y_test = np.array(y_test)"
      ],
      "metadata": {
        "id": "kMQhaQx3YkeQ"
      },
      "execution_count": 57,
      "outputs": []
    },
    {
      "cell_type": "markdown",
      "source": [
        "# Modeling & Evaluation"
      ],
      "metadata": {
        "id": "ePii9hO4_9U9"
      }
    },
    {
      "cell_type": "markdown",
      "source": [
        "## Linear Regression"
      ],
      "metadata": {
        "id": "WuYY0HqQAl_-"
      }
    },
    {
      "cell_type": "code",
      "source": [
        "lr=LinearRegression()"
      ],
      "metadata": {
        "id": "Uqw52VNKH3J6"
      },
      "execution_count": 58,
      "outputs": []
    },
    {
      "cell_type": "code",
      "source": [
        "# Fitting the Model\n",
        "lr=lr.fit(X_train,y_train)"
      ],
      "metadata": {
        "id": "gFp7-MrbH5CG"
      },
      "execution_count": 59,
      "outputs": []
    },
    {
      "cell_type": "code",
      "source": [
        "# Predictions\n",
        "preds=lr.predict(X_test)\n",
        "preds_train=lr.predict(X_train)\n"
      ],
      "metadata": {
        "id": "V-QtInllQi7F"
      },
      "execution_count": 60,
      "outputs": []
    },
    {
      "cell_type": "markdown",
      "source": [
        "* MAPE"
      ],
      "metadata": {
        "id": "UXEis2xDB_HT"
      }
    },
    {
      "cell_type": "code",
      "source": [
        "print(mean_absolute_percentage_error(y_test,preds))"
      ],
      "metadata": {
        "colab": {
          "base_uri": "https://localhost:8080/"
        },
        "id": "EpOf1f6sAkcs",
        "outputId": "6f62faeb-5dd8-4d00-e402-c5cd45780ca7"
      },
      "execution_count": 61,
      "outputs": [
        {
          "output_type": "stream",
          "name": "stdout",
          "text": [
            "1.751166430963419e+16\n"
          ]
        }
      ]
    },
    {
      "cell_type": "markdown",
      "source": [
        "* R2"
      ],
      "metadata": {
        "id": "07nPO6GnCCDS"
      }
    },
    {
      "cell_type": "code",
      "source": [
        "print(r2_score(y_test,preds))"
      ],
      "metadata": {
        "colab": {
          "base_uri": "https://localhost:8080/"
        },
        "id": "PqFaN-8BQr7X",
        "outputId": "218e08a7-44da-4c0e-e155-3a3f9558d237"
      },
      "execution_count": 62,
      "outputs": [
        {
          "output_type": "stream",
          "name": "stdout",
          "text": [
            "0.6579147365509612\n"
          ]
        }
      ]
    },
    {
      "cell_type": "markdown",
      "source": [
        "* RMSE"
      ],
      "metadata": {
        "id": "q_159B_jCEMV"
      }
    },
    {
      "cell_type": "code",
      "source": [
        "print(rmse(y_test,preds))"
      ],
      "metadata": {
        "colab": {
          "base_uri": "https://localhost:8080/"
        },
        "id": "YnhWA0qiRuwR",
        "outputId": "951040f3-4f5f-4adb-b3a5-dfd5ccadedf3"
      },
      "execution_count": 63,
      "outputs": [
        {
          "output_type": "stream",
          "name": "stdout",
          "text": [
            "1499.52524263299\n"
          ]
        }
      ]
    },
    {
      "cell_type": "markdown",
      "source": [
        "## Random Forest Regressor"
      ],
      "metadata": {
        "id": "QKKsft8GA-Mt"
      }
    },
    {
      "cell_type": "code",
      "source": [
        "from sklearn.ensemble import RandomForestRegressor"
      ],
      "metadata": {
        "id": "VTt6GKxLBCsQ"
      },
      "execution_count": 64,
      "outputs": []
    },
    {
      "cell_type": "code",
      "source": [
        "rf=RandomForestRegressor(random_state=1)"
      ],
      "metadata": {
        "id": "sh379LPYBYkW"
      },
      "execution_count": 65,
      "outputs": []
    },
    {
      "cell_type": "code",
      "source": [
        "rf=rf.fit(X_train,y_train)"
      ],
      "metadata": {
        "id": "UONSn0IIBbAe"
      },
      "execution_count": 66,
      "outputs": []
    },
    {
      "cell_type": "code",
      "source": [
        "# Predictions\n",
        "rf_preds=rf.predict(X_test)"
      ],
      "metadata": {
        "id": "GDs_0QDABe9N"
      },
      "execution_count": 67,
      "outputs": []
    },
    {
      "cell_type": "markdown",
      "source": [
        "* MAPE"
      ],
      "metadata": {
        "id": "lGTQLgoeCORu"
      }
    },
    {
      "cell_type": "code",
      "source": [
        "print(mean_absolute_percentage_error(y_test,rf_preds))"
      ],
      "metadata": {
        "colab": {
          "base_uri": "https://localhost:8080/"
        },
        "id": "zxfapOCZBiHi",
        "outputId": "cae93415-22f5-40e0-a3dc-9b94f366e802"
      },
      "execution_count": 68,
      "outputs": [
        {
          "output_type": "stream",
          "name": "stdout",
          "text": [
            "0.10189646328494462\n"
          ]
        }
      ]
    },
    {
      "cell_type": "markdown",
      "source": [
        "* R2"
      ],
      "metadata": {
        "id": "rwiPmDYpCQO3"
      }
    },
    {
      "cell_type": "code",
      "source": [
        "print(r2_score(y_test,rf_preds))"
      ],
      "metadata": {
        "colab": {
          "base_uri": "https://localhost:8080/"
        },
        "id": "B_huBQAQBqAY",
        "outputId": "2353c5ac-f9fa-43c6-e92d-b0694cef84b2"
      },
      "execution_count": 69,
      "outputs": [
        {
          "output_type": "stream",
          "name": "stdout",
          "text": [
            "0.6894346544742771\n"
          ]
        }
      ]
    },
    {
      "cell_type": "markdown",
      "source": [
        "* RMSE"
      ],
      "metadata": {
        "id": "xlscWzHqCSEJ"
      }
    },
    {
      "cell_type": "code",
      "source": [
        "print(rmse(y_test,rf_preds))"
      ],
      "metadata": {
        "colab": {
          "base_uri": "https://localhost:8080/"
        },
        "id": "JQYJIONeBs6_",
        "outputId": "7a886c50-88a9-4fd0-8480-368b35b4062d"
      },
      "execution_count": 70,
      "outputs": [
        {
          "output_type": "stream",
          "name": "stdout",
          "text": [
            "1428.7725397325419\n"
          ]
        }
      ]
    },
    {
      "cell_type": "markdown",
      "source": [
        "### Hyperparameter Tuning"
      ],
      "metadata": {
        "id": "yvlrMRMsCxxf"
      }
    },
    {
      "cell_type": "code",
      "source": [
        "from sklearn.model_selection import GridSearchCV\n",
        "\n",
        "rf=RandomForestRegressor(random_state=1)\n",
        "param_grid = {\"n_estimators\":  [200, 500],\n",
        "              \"max_features\": [2,3,4],\n",
        "              \"max_depth\":[3,5,7,9],\n",
        "              \"min_samples_split\":[10,20,25],\"min_samples_leaf\":[1,2,3]}\n",
        "grid_cv_rf = GridSearchCV(rf, param_grid, cv=5)\n",
        "grid_cv_rf.fit(X_train,y_train)"
      ],
      "metadata": {
        "colab": {
          "base_uri": "https://localhost:8080/"
        },
        "id": "ega6sfW5CzlQ",
        "outputId": "4d4da0d4-ea85-4859-c307-01a5f5ecdc4c"
      },
      "execution_count": null,
      "outputs": [
        {
          "output_type": "execute_result",
          "data": {
            "text/plain": [
              "GridSearchCV(cv=5, estimator=RandomForestRegressor(random_state=1),\n",
              "             param_grid={'max_depth': [3, 5, 7, 9], 'max_features': [2, 3, 4],\n",
              "                         'min_samples_leaf': [1, 2, 3],\n",
              "                         'min_samples_split': [10, 20, 25],\n",
              "                         'n_estimators': [200, 500]})"
            ]
          },
          "metadata": {},
          "execution_count": 332
        }
      ]
    },
    {
      "cell_type": "code",
      "source": [
        "print(\"R2: {}\".format(grid_cv_rf.best_score_))\n",
        "print()\n",
        "print(\"Best Hyperparameters:{}\".format(grid_cv_rf.best_params_))"
      ],
      "metadata": {
        "colab": {
          "base_uri": "https://localhost:8080/"
        },
        "id": "8xGVywJxHO01",
        "outputId": "4677a93c-3a3d-4d18-d40b-ac4ff2e4dc10"
      },
      "execution_count": null,
      "outputs": [
        {
          "output_type": "stream",
          "name": "stdout",
          "text": [
            "R2: 0.7110471136566054\n",
            "\n",
            "Best Hyperparameters:{'max_depth': 9, 'max_features': 4, 'min_samples_leaf': 2, 'min_samples_split': 10, 'n_estimators': 200}\n"
          ]
        }
      ]
    },
    {
      "cell_type": "code",
      "source": [
        "# Fitting Model with Best Parameters\n",
        "\n",
        "rf=RandomForestRegressor(n_estimators=200,max_depth=9,max_features=4,min_samples_leaf=2,min_samples_split=10,random_state=1)"
      ],
      "metadata": {
        "id": "CUdX_X7NHXrq"
      },
      "execution_count": 72,
      "outputs": []
    },
    {
      "cell_type": "code",
      "source": [
        "rf=rf.fit(X_train,y_train)"
      ],
      "metadata": {
        "id": "CCQwdLd4HsQi"
      },
      "execution_count": 73,
      "outputs": []
    },
    {
      "cell_type": "code",
      "source": [
        "rf_preds=rf.predict(X_test)"
      ],
      "metadata": {
        "id": "P07H_RlyHwPC"
      },
      "execution_count": 74,
      "outputs": []
    },
    {
      "cell_type": "code",
      "source": [
        "y_test=y_test+1"
      ],
      "metadata": {
        "id": "83yMP0jq645f"
      },
      "execution_count": 75,
      "outputs": []
    },
    {
      "cell_type": "markdown",
      "source": [
        "* MAPE"
      ],
      "metadata": {
        "id": "-wVKgE-BDhR9"
      }
    },
    {
      "cell_type": "code",
      "source": [
        "print(mean_absolute_percentage_error(y_test,rf_preds))"
      ],
      "metadata": {
        "colab": {
          "base_uri": "https://localhost:8080/"
        },
        "id": "HnaqmU32Hygk",
        "outputId": "fd50300a-e351-4563-8bc5-0e025443a5d7"
      },
      "execution_count": 76,
      "outputs": [
        {
          "output_type": "stream",
          "name": "stdout",
          "text": [
            "1.196911633641406\n"
          ]
        }
      ]
    },
    {
      "cell_type": "markdown",
      "source": [
        "* R2"
      ],
      "metadata": {
        "id": "4fdcUIi3DjTv"
      }
    },
    {
      "cell_type": "code",
      "source": [
        "print(r2_score(y_test,rf_preds))"
      ],
      "metadata": {
        "colab": {
          "base_uri": "https://localhost:8080/"
        },
        "id": "W6yXAZVsH1iA",
        "outputId": "44a0378d-a49d-4509-ebba-41ab195c3ac5"
      },
      "execution_count": 77,
      "outputs": [
        {
          "output_type": "stream",
          "name": "stdout",
          "text": [
            "0.7381440292115968\n"
          ]
        }
      ]
    },
    {
      "cell_type": "markdown",
      "source": [
        "* RMSE"
      ],
      "metadata": {
        "id": "3w52CG-MDkqn"
      }
    },
    {
      "cell_type": "code",
      "source": [
        "print(rmse(y_test,rf_preds))"
      ],
      "metadata": {
        "colab": {
          "base_uri": "https://localhost:8080/"
        },
        "id": "Djebqdd9IETj",
        "outputId": "707f0658-3d59-441a-c318-570142bfbdf2"
      },
      "execution_count": 78,
      "outputs": [
        {
          "output_type": "stream",
          "name": "stdout",
          "text": [
            "1311.9516757456054\n"
          ]
        }
      ]
    },
    {
      "cell_type": "markdown",
      "source": [
        "## XGBoost Regressor"
      ],
      "metadata": {
        "id": "d5PM1R9TJuOG"
      }
    },
    {
      "cell_type": "code",
      "source": [
        "from xgboost import XGBRegressor"
      ],
      "metadata": {
        "id": "xFSSaWI4KJ9O"
      },
      "execution_count": 79,
      "outputs": []
    },
    {
      "cell_type": "code",
      "source": [
        "xgb=XGBRegressor(random_state=1)"
      ],
      "metadata": {
        "id": "ItZqlMEfKLD5"
      },
      "execution_count": 80,
      "outputs": []
    },
    {
      "cell_type": "code",
      "source": [
        "xgb=xgb.fit(X_train,y_train)"
      ],
      "metadata": {
        "colab": {
          "base_uri": "https://localhost:8080/"
        },
        "id": "8UFlnBX8KQUd",
        "outputId": "52f2ed6d-61be-4a7a-8388-6571a1679392"
      },
      "execution_count": 81,
      "outputs": [
        {
          "output_type": "stream",
          "name": "stdout",
          "text": [
            "[18:00:15] WARNING: /workspace/src/objective/regression_obj.cu:152: reg:linear is now deprecated in favor of reg:squarederror.\n"
          ]
        }
      ]
    },
    {
      "cell_type": "code",
      "source": [
        "xgb_preds=xgb.predict(X_test)"
      ],
      "metadata": {
        "id": "Xflc1mAZKZ8q"
      },
      "execution_count": 82,
      "outputs": []
    },
    {
      "cell_type": "markdown",
      "source": [
        "* MAPE"
      ],
      "metadata": {
        "id": "iCXc8wKwDrnz"
      }
    },
    {
      "cell_type": "code",
      "source": [
        "print(mean_absolute_percentage_error(y_test,xgb_preds))"
      ],
      "metadata": {
        "colab": {
          "base_uri": "https://localhost:8080/"
        },
        "id": "DM-m0kxLKevm",
        "outputId": "dcb6927b-571b-4d35-fc0e-214237a5a662"
      },
      "execution_count": 83,
      "outputs": [
        {
          "output_type": "stream",
          "name": "stdout",
          "text": [
            "8.776359662404499\n"
          ]
        }
      ]
    },
    {
      "cell_type": "markdown",
      "source": [
        "* R2"
      ],
      "metadata": {
        "id": "hCKGYexkDtQj"
      }
    },
    {
      "cell_type": "code",
      "source": [
        "print(r2_score(y_test,xgb_preds))"
      ],
      "metadata": {
        "colab": {
          "base_uri": "https://localhost:8080/"
        },
        "id": "esXWI5gzKiJP",
        "outputId": "a644d50f-88f8-40b2-ea92-8954b02269b3"
      },
      "execution_count": 84,
      "outputs": [
        {
          "output_type": "stream",
          "name": "stdout",
          "text": [
            "0.7138154966696515\n"
          ]
        }
      ]
    },
    {
      "cell_type": "markdown",
      "source": [
        "### Hyperparameter Tuning"
      ],
      "metadata": {
        "id": "z3Ay_-zwLd9T"
      }
    },
    {
      "cell_type": "code",
      "source": [
        "from sklearn.model_selection import GridSearchCV\n",
        "\n",
        "xgb=XGBRegressor(random_state=1,silent=1)\n",
        "param_grid = {\"eta\":  [0.02,0.05,0.1],\n",
        "              \"subsample\": [0.5,1],\n",
        "              \"max_depth\":[3,5,7,9]}\n",
        "grid_cv_xgb = GridSearchCV(xgb,param_grid, cv=5)\n",
        "grid_cv_xgb.fit(X_train,y_train)"
      ],
      "metadata": {
        "colab": {
          "base_uri": "https://localhost:8080/"
        },
        "id": "GOIkZ8uHLgao",
        "outputId": "d1635d59-eb5a-4dc3-f57d-9b63095a76a5"
      },
      "execution_count": 85,
      "outputs": [
        {
          "output_type": "execute_result",
          "data": {
            "text/plain": [
              "GridSearchCV(cv=5, estimator=XGBRegressor(random_state=1, silent=1),\n",
              "             param_grid={'eta': [0.02, 0.05, 0.1], 'max_depth': [3, 5, 7, 9],\n",
              "                         'subsample': [0.5, 1]})"
            ]
          },
          "metadata": {},
          "execution_count": 85
        }
      ]
    },
    {
      "cell_type": "code",
      "source": [
        "print(\"R2: {}\".format(grid_cv_xgb.best_score_))\n",
        "print()\n",
        "print(\"Best Hyperparameters:{}\".format(grid_cv_xgb.best_params_))"
      ],
      "metadata": {
        "colab": {
          "base_uri": "https://localhost:8080/"
        },
        "id": "tWHB17kNNOcF",
        "outputId": "21f7376b-7a8d-43d8-a11e-937abf1753ea"
      },
      "execution_count": 86,
      "outputs": [
        {
          "output_type": "stream",
          "name": "stdout",
          "text": [
            "R2: 0.7026507980960275\n",
            "\n",
            "Best Hyperparameters:{'eta': 0.02, 'max_depth': 7, 'subsample': 0.5}\n"
          ]
        }
      ]
    },
    {
      "cell_type": "code",
      "source": [
        "# Fitting Model with Best Parameters\n",
        "\n",
        "xgb=XGBRegressor(random_state=1,silent=1,eta=0.02,max_depth=7,subsample=0.5)"
      ],
      "metadata": {
        "id": "-4ZbiKnqNTvM"
      },
      "execution_count": 87,
      "outputs": []
    },
    {
      "cell_type": "code",
      "source": [
        "xgb=xgb.fit(X_train,y_train)"
      ],
      "metadata": {
        "id": "-IdXk5YJNivF"
      },
      "execution_count": 88,
      "outputs": []
    },
    {
      "cell_type": "code",
      "source": [
        "xgb_preds=xgb.predict(X_test)\n",
        "xgb_preds_train=xgb.predict(X_train)"
      ],
      "metadata": {
        "id": "btrcFVBvNjsw"
      },
      "execution_count": 89,
      "outputs": []
    },
    {
      "cell_type": "markdown",
      "source": [
        "* MAPE"
      ],
      "metadata": {
        "id": "hxAskt2lDz0T"
      }
    },
    {
      "cell_type": "code",
      "source": [
        "print(mean_absolute_percentage_error(y_test,xgb_preds))"
      ],
      "metadata": {
        "colab": {
          "base_uri": "https://localhost:8080/"
        },
        "id": "wAksk0tRNoBj",
        "outputId": "ab39ca64-4318-484d-d646-53f3fb695899"
      },
      "execution_count": 90,
      "outputs": [
        {
          "output_type": "stream",
          "name": "stdout",
          "text": [
            "4.07542958573668\n"
          ]
        }
      ]
    },
    {
      "cell_type": "markdown",
      "source": [
        "* R2"
      ],
      "metadata": {
        "id": "PO-kQ59RD2Oc"
      }
    },
    {
      "cell_type": "code",
      "source": [
        "print(r2_score(y_test,xgb_preds))"
      ],
      "metadata": {
        "colab": {
          "base_uri": "https://localhost:8080/"
        },
        "id": "y8pyirJ4NqNm",
        "outputId": "4320afef-e92d-4d6e-d459-c85448ee581c"
      },
      "execution_count": 91,
      "outputs": [
        {
          "output_type": "stream",
          "name": "stdout",
          "text": [
            "0.6634619816938914\n"
          ]
        }
      ]
    },
    {
      "cell_type": "code",
      "source": [
        "print(rmse(y_test,xgb_preds))"
      ],
      "metadata": {
        "colab": {
          "base_uri": "https://localhost:8080/"
        },
        "id": "mMJ5JOq2gy1H",
        "outputId": "ab5b5a64-e75c-4a0b-c7c8-89d9e240b296"
      },
      "execution_count": 92,
      "outputs": [
        {
          "output_type": "stream",
          "name": "stdout",
          "text": [
            "1487.317420058186\n"
          ]
        }
      ]
    }
  ]
}